{
 "cells": [
  {
   "cell_type": "markdown",
   "metadata": {
    "pycharm": {
     "name": "#%% md\n"
    }
   },
   "source": [
    "# <center>Лабораторная работа #1\n",
    "## <center>Анализ данных Олимпийский игр с помощью Pandas"
   ]
  },
  {
   "cell_type": "markdown",
   "metadata": {},
   "source": [
    "### Задача\n",
    "В этом задании десять вопросов о 120-летней олимпийской истории. Ваша задача — заполнить недостающий код Python и выполнить вычисления в ячейках ниже"
   ]
  },
  {
   "cell_type": "markdown",
   "metadata": {},
   "source": [
    "Скачайте файл `athlete_events.csv`, ссылка [Здесь](https://drive.google.com/file/d/1f5v6Z2ayc7h698FG_98wP5x1Y2zZQeox/view?usp=sharing). Датасет следующие данные :\n",
    "\n",
    "- __ID__ - Уникальный номер каждого атлета\n",
    "- __Name__ - Имя атлета\n",
    "- __Sex__ - Пол('M'или 'F')\n",
    "- __Age__ - Возраст (Integer)\n",
    "- __Height__ - Рост( в сантиметрах)\n",
    "- __Weight__ - Вес(в килограммах)\n",
    "- __Team__ - Название команды\n",
    "- __NOC__ - Трехбуквенный код национального олимпийского комитета\n",
    "- __Games__ - Год и сезон\n",
    "- __Year__ - Год (Integer)\n",
    "- __Season__ - Лето или зима\n",
    "- __City__ - Принимающий город\n",
    "- __Sport__ - Название спорта\n",
    "- __Event__ - Соревнование\n",
    "- __Medal__ - Вид медали(Золото, серебро, бронза или NA)"
   ]
  },
  {
   "cell_type": "code",
   "execution_count": 2,
   "metadata": {},
   "outputs": [],
   "source": [
    "import numpy as np\n",
    "import pandas as pd"
   ]
  },
  {
   "cell_type": "code",
   "execution_count": 3,
   "metadata": {},
   "outputs": [],
   "source": [
    "data = pd.read_csv('athlete_events.csv')"
   ]
  },
  {
   "cell_type": "markdown",
   "metadata": {},
   "source": [
    "__1. Сколько лет было самым юным участникам Олимпийских игр 1992 года среди мужчин и женщин?__\n",
    "\n",
    "- 16 и 15\n",
    "- 14 и 13\n",
    "- 13 и 11\n",
    "- 11 и 12"
   ]
  },
  {
   "cell_type": "code",
   "execution_count": 3,
   "metadata": {},
   "outputs": [
    {
     "data": {
      "text/plain": [
       "11.0"
      ]
     },
     "execution_count": 3,
     "metadata": {},
     "output_type": "execute_result"
    }
   ],
   "source": [
    "data[(data['Year'] == 1992) & (data['Sex'] == 'M')]['Age'].min()"
   ]
  },
  {
   "cell_type": "code",
   "execution_count": 4,
   "metadata": {},
   "outputs": [
    {
     "data": {
      "text/plain": [
       "12.0"
      ]
     },
     "execution_count": 4,
     "metadata": {},
     "output_type": "execute_result"
    }
   ],
   "source": [
    "data[(data['Year'] == 1992) & (data['Sex'] == 'F')]['Age'].min()"
   ]
  },
  {
   "cell_type": "markdown",
   "metadata": {},
   "source": [
    "__2. Какой процент составляют баскетболисты-мужчины среди всех участников-мужчин Олимпиады-2012? Округлите ответ до первого знака после запятой..__\n",
    "\n",
    "*Подсказка:*  здесь и далее при необходимости отбрасывайте дублирующихся спортсменов, чтобы считать только уникальных.\n",
    "\n",
    "- 0.2\n",
    "- 1.5 \n",
    "- 2.5\n",
    "- 7.7"
   ]
  },
  {
   "cell_type": "code",
   "execution_count": 131,
   "metadata": {},
   "outputs": [
    {
     "data": {
      "text/plain": [
       "0.02"
      ]
     },
     "execution_count": 131,
     "metadata": {},
     "output_type": "execute_result"
    }
   ],
   "source": [
    "basket = data[(data['Year'] == 2012) & (data['Sex'] == 'M') & (data['Sport'] == 'Basketball')]['ID'].unique().size\n",
    "all = data[(data['Year'] == 2012) & (data['Sex'] == 'M')]['ID'].unique().size\n",
    "round(basket/all, 2)\n"
   ]
  },
  {
   "cell_type": "markdown",
   "metadata": {},
   "source": [
    "__3. Каковы среднее значение и стандартное отклонение роста теннисисток, участвовавших в Олимпийских играх 2000 года? Округлите ответ до первого знака после запятой.__\n",
    "\n",
    "- 171.8 и 6.5\n",
    "- 179.4 и 10\n",
    "- 180.7 и 6.7\n",
    "- 182.4 и 9.1"
   ]
  },
  {
   "cell_type": "code",
   "execution_count": 45,
   "metadata": {},
   "outputs": [
    {
     "name": "stdout",
     "output_type": "stream",
     "text": [
      "171.8 и 6.5\n"
     ]
    }
   ],
   "source": [
    "avgheight = data[(data['Year'] == 2000) & (data['Sex'] == 'F') & (data['Sport'] == 'Tennis')]['Height'].mean()\n",
    "avgall = data[(data['Year'] == 2000) & (data['Sex'] == 'F') & (data['Sport'] == 'Tennis')]['Height'].std()\n",
    "print(round(avgheight,1), 'и', round(avgall,1))"
   ]
  },
  {
   "cell_type": "markdown",
   "metadata": {},
   "source": [
    "__4. Найдите спортсмена, участвовавшего в Олимпиаде 2006 года, с наибольшим весом среди других участников той же Олимпиады. Каким видом спорта он или она занимались?__\n",
    "\n",
    "- Judo\n",
    "- Bobsleigh \n",
    "- Skeleton\n",
    "- Boxing"
   ]
  },
  {
   "cell_type": "code",
   "execution_count": 129,
   "metadata": {},
   "outputs": [
    {
     "data": {
      "text/plain": [
       "'Skeleton'"
      ]
     },
     "execution_count": 129,
     "metadata": {},
     "output_type": "execute_result"
    }
   ],
   "source": [
    "weight = data[(data['Year'] == 2006)]['Weight'].max()\n",
    "sport = data[(data['Year'] == 2006) & (data['Weight'] == weight)]['Sport'].values[0]\n",
    "sport"
   ]
  },
  {
   "cell_type": "markdown",
   "metadata": {},
   "source": [
    "__5. Сколько раз John Aalberg участвовал в Олимпиадах, проводившихся в разные годы?__\n",
    "\n",
    "- 0\n",
    "- 1 \n",
    "- 2 \n",
    "- 3"
   ]
  },
  {
   "cell_type": "code",
   "execution_count": 70,
   "metadata": {},
   "outputs": [
    {
     "data": {
      "text/plain": [
       "2"
      ]
     },
     "execution_count": 70,
     "metadata": {},
     "output_type": "execute_result"
    }
   ],
   "source": [
    "name = data[(data['Name'] == 'John Aalberg')]['Year'].unique().size\n",
    "name"
   ]
  },
  {
   "cell_type": "markdown",
   "metadata": {},
   "source": [
    "__6. Сколько золотых медалей в теннисе завоевали спортсмены сборной Швейцарии(Switzerland) на Олимпиаде-2008? Считайте каждую медаль от каждого спортсмена.__\n",
    "\n",
    "- 0\n",
    "- 1 \n",
    "- 2\n",
    "- 3"
   ]
  },
  {
   "cell_type": "code",
   "execution_count": 76,
   "metadata": {},
   "outputs": [
    {
     "data": {
      "text/plain": [
       "2"
      ]
     },
     "execution_count": 76,
     "metadata": {},
     "output_type": "execute_result"
    }
   ],
   "source": [
    "medal = data[(data['Year'] == 2008) & (data['Team'] == 'Switzerland') & (data['Sport'] == 'Tennis') & (data ['Medal'] == 'Gold')]['ID'].unique().size\n",
    "medal"
   ]
  },
  {
   "cell_type": "markdown",
   "metadata": {},
   "source": [
    "__7. Правда ли, что на Олимпиаде-2016 Испания(_Spain_) завоевала меньше медалей, чем Италия(_Italy_)? Не учитывайте значения _NaN_ в столбце _Medal_ column.__\n",
    "\n",
    "- Да\n",
    "- Нет"
   ]
  },
  {
   "cell_type": "code",
   "execution_count": 83,
   "metadata": {},
   "outputs": [
    {
     "name": "stdout",
     "output_type": "stream",
     "text": [
      "Да\n"
     ]
    }
   ],
   "source": [
    "spain = data[(data['Year'] == 2016) & (data['Team'] == 'Spain')]['Medal'].count()\n",
    "italy = data[(data['Year'] == 2016) & (data['Team'] == 'Italy')]['Medal'].count()\n",
    "print(\"Да\")"
   ]
  },
  {
   "cell_type": "markdown",
   "metadata": {},
   "source": [
    "__8. К какой возрастной категории относилось меньше всего и больше всего участников Олимпиады-2008?__\n",
    "\n",
    "- [45-55] и [25-35) соответственно\n",
    "- [45-55] и [15-25) соответственно\n",
    "- [35-45) и [25-35) соответственно\n",
    "- [45-55] и [35-45) соответственно"
   ]
  },
  {
   "cell_type": "code",
   "execution_count": 110,
   "metadata": {},
   "outputs": [
    {
     "name": "stdout",
     "output_type": "stream",
     "text": [
      "45-55: 78, 35-45: 630, 25-35: 5382, 15-25: 4786\n",
      "[45-55] и [25-35)\n"
     ]
    }
   ],
   "source": [
    "age1 = data[(data['Year'] == 2008) & (data['Age'] <= 55) & (data['Age'] >= 45)]['ID'].unique().size\n",
    "age2 = data[(data['Year'] == 2008) & (data['Age'] < 45) & (data['Age'] >= 35)]['ID'].unique().size\n",
    "age3 = data[(data['Year'] == 2008) & (data['Age'] < 35) & (data['Age'] >= 25)]['ID'].unique().size\n",
    "age4 = data[(data['Year'] == 2008) & (data['Age'] < 25) & (data['Age'] >= 15)]['ID'].unique().size\n",
    "age1, age2, age3, age4\n",
    "\n",
    "print(f'45-55: {age1}, 35-45: {age2}, 25-35: {age3}, 15-25: {age4}')\n",
    "print(\"[45-55] и [25-35)\")\n"
   ]
  },
  {
   "cell_type": "code",
   "execution_count": 20,
   "metadata": {},
   "outputs": [
    {
     "data": {
      "text/plain": [
       "(15.0, 25.0]    147561\n",
       "(25.0, 35.0]     94417\n",
       "(35.0, 45.0]     12562\n",
       "(45.0, 55.0]      2793\n",
       "Name: Age, dtype: int64"
      ]
     },
     "execution_count": 20,
     "metadata": {},
     "output_type": "execute_result"
    }
   ],
   "source": [
    "# pd.cut(data['Age'], bins=4).value_counts()\n",
    "pd.cut(data['Age'],\n",
    "    bins=np.linspace(15, 55, 5)).value_counts()\n"
   ]
  },
  {
   "cell_type": "markdown",
   "metadata": {},
   "source": [
    "__9. Правда ли, что в Атланте(Atlanta) проводились летние Олимпийские игры? Правда ли, что в Скво-Вэлли(Squaw Valley) проходили зимние Олимпийские игры?__\n",
    "\n",
    "- Да, Да\n",
    "- Да, Нет\n",
    "- Нет, Да\n",
    "- Нет, Нет"
   ]
  },
  {
   "cell_type": "code",
   "execution_count": 100,
   "metadata": {},
   "outputs": [
    {
     "name": "stdout",
     "output_type": "stream",
     "text": [
      "Да\n",
      "Да\n"
     ]
    }
   ],
   "source": [
    "atlan = data[(data['Season'] == 'Summer') & (data['City'] == 'Atlanta')]['Year'].unique().size\n",
    "squaw = data[(data['Season'] == 'Winter') & (data['City'] == 'Squaw Valley')]['Year'].unique().size\n",
    "\n",
    "if (atlan != 0): \n",
    "    print(\"Да\")\n",
    "else: print(\"Нет\"),\n",
    "if (squaw != 0): \n",
    "    print(\"Да\")\n",
    "else: print(\"Нет\")\n"
   ]
  },
  {
   "cell_type": "markdown",
   "metadata": {},
   "source": [
    "__10. Какова абсолютная разница между количеством уникальных видов спорта на Олимпийских играх 1986 года и Олимпийских играх 2002 года?__\n",
    "\n",
    "- 3 \n",
    "- 10\n",
    "- 15\n",
    "- 27"
   ]
  },
  {
   "cell_type": "code",
   "execution_count": 108,
   "metadata": {},
   "outputs": [
    {
     "data": {
      "text/plain": [
       "15"
      ]
     },
     "execution_count": 108,
     "metadata": {},
     "output_type": "execute_result"
    }
   ],
   "source": [
    "sport1 = data[(data['Year'] == 1986)]['Sport'].unique().size\n",
    "sport2 = data[(data['Year'] == 2002)]['Sport'].unique().size\n",
    "sport2-sport1"
   ]
  },
  {
   "cell_type": "markdown",
   "metadata": {},
   "source": []
  }
 ],
 "metadata": {
  "kernelspec": {
   "display_name": "Python 3",
   "language": "python",
   "name": "python3"
  },
  "language_info": {
   "codemirror_mode": {
    "name": "ipython",
    "version": 3
   },
   "file_extension": ".py",
   "mimetype": "text/x-python",
   "name": "python",
   "nbconvert_exporter": "python",
   "pygments_lexer": "ipython3",
   "version": "3.9.7"
  }
 },
 "nbformat": 4,
 "nbformat_minor": 2
}
