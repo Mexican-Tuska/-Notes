{
 "cells": [
  {
   "cell_type": "markdown",
   "metadata": {
    "colab_type": "text",
    "id": "hvpnaAI6eyMZ"
   },
   "source": [
    "# Лабораторная работа № 5"
   ]
  },
  {
   "cell_type": "code",
   "execution_count": 274,
   "metadata": {
    "colab": {},
    "colab_type": "code",
    "id": "r7rIggE0sDn0"
   },
   "outputs": [],
   "source": [
    "import numpy as np\n",
    "import seaborn as sns\n",
    "import pandas as pd\n",
    "from matplotlib import pyplot as plt\n",
    "from scipy.stats import norm\n",
    "from sklearn.preprocessing import MinMaxScaler, StandardScaler\n",
    "from sklearn.utils import shuffle\n",
    "from sklearn.model_selection import KFold, cross_val_score, train_test_split, cross_validate, GridSearchCV\n",
    "from sklearn.linear_model import LinearRegression, Ridge, LogisticRegression\n",
    "from sklearn.preprocessing import PolynomialFeatures, FunctionTransformer\n",
    "from sklearn.pipeline import make_pipeline, Pipeline\n",
    "from sklearn.metrics import r2_score, confusion_matrix, plot_confusion_matrix, classification_report, accuracy_score, precision_score, recall_score\n",
    "from sklearn.metrics import plot_precision_recall_curve, roc_curve, plot_roc_curve\n",
    "from sklearn.experimental import enable_iterative_imputer\n",
    "from sklearn.impute import IterativeImputer, SimpleImputer, KNNImputer\n",
    "from sklearn.compose import ColumnTransformer\n",
    "from sklearn.svm import SVC\n",
    "from sklearn.tree import DecisionTreeClassifier"
   ]
  },
  {
   "cell_type": "markdown",
   "metadata": {
    "colab_type": "text",
    "id": "TCmwvQk6NvBa"
   },
   "source": [
    "Загружаем данные и смотрим на них:"
   ]
  },
  {
   "cell_type": "code",
   "execution_count": 275,
   "metadata": {
    "colab": {
     "base_uri": "https://localhost:8080/",
     "height": 359
    },
    "colab_type": "code",
    "executionInfo": {
     "elapsed": 1494,
     "status": "ok",
     "timestamp": 1583072844124,
     "user": {
      "displayName": "Artyom Volkov",
      "photoUrl": "",
      "userId": "14475346010427668464"
     },
     "user_tz": -180
    },
    "id": "K2mEj3HBuhOh",
    "outputId": "cbe2c4f6-d522-4c1d-d85f-e0b4ceb805df"
   },
   "outputs": [
    {
     "data": {
      "text/html": [
       "<div>\n",
       "<style scoped>\n",
       "    .dataframe tbody tr th:only-of-type {\n",
       "        vertical-align: middle;\n",
       "    }\n",
       "\n",
       "    .dataframe tbody tr th {\n",
       "        vertical-align: top;\n",
       "    }\n",
       "\n",
       "    .dataframe thead th {\n",
       "        text-align: right;\n",
       "    }\n",
       "</style>\n",
       "<table border=\"1\" class=\"dataframe\">\n",
       "  <thead>\n",
       "    <tr style=\"text-align: right;\">\n",
       "      <th></th>\n",
       "      <th>Pregnancies</th>\n",
       "      <th>Glucose</th>\n",
       "      <th>BloodPressure</th>\n",
       "      <th>SkinThickness</th>\n",
       "      <th>Insulin</th>\n",
       "      <th>BMI</th>\n",
       "      <th>DiabetesPedigreeFunction</th>\n",
       "      <th>Age</th>\n",
       "      <th>Outcome</th>\n",
       "    </tr>\n",
       "  </thead>\n",
       "  <tbody>\n",
       "    <tr>\n",
       "      <th>0</th>\n",
       "      <td>6</td>\n",
       "      <td>148</td>\n",
       "      <td>72</td>\n",
       "      <td>35</td>\n",
       "      <td>0</td>\n",
       "      <td>33.6</td>\n",
       "      <td>0.627</td>\n",
       "      <td>50</td>\n",
       "      <td>1</td>\n",
       "    </tr>\n",
       "    <tr>\n",
       "      <th>1</th>\n",
       "      <td>1</td>\n",
       "      <td>85</td>\n",
       "      <td>66</td>\n",
       "      <td>29</td>\n",
       "      <td>0</td>\n",
       "      <td>26.6</td>\n",
       "      <td>0.351</td>\n",
       "      <td>31</td>\n",
       "      <td>0</td>\n",
       "    </tr>\n",
       "    <tr>\n",
       "      <th>2</th>\n",
       "      <td>8</td>\n",
       "      <td>183</td>\n",
       "      <td>64</td>\n",
       "      <td>0</td>\n",
       "      <td>0</td>\n",
       "      <td>23.3</td>\n",
       "      <td>0.672</td>\n",
       "      <td>32</td>\n",
       "      <td>1</td>\n",
       "    </tr>\n",
       "    <tr>\n",
       "      <th>3</th>\n",
       "      <td>1</td>\n",
       "      <td>89</td>\n",
       "      <td>66</td>\n",
       "      <td>23</td>\n",
       "      <td>94</td>\n",
       "      <td>28.1</td>\n",
       "      <td>0.167</td>\n",
       "      <td>21</td>\n",
       "      <td>0</td>\n",
       "    </tr>\n",
       "    <tr>\n",
       "      <th>4</th>\n",
       "      <td>0</td>\n",
       "      <td>137</td>\n",
       "      <td>40</td>\n",
       "      <td>35</td>\n",
       "      <td>168</td>\n",
       "      <td>43.1</td>\n",
       "      <td>2.288</td>\n",
       "      <td>33</td>\n",
       "      <td>1</td>\n",
       "    </tr>\n",
       "    <tr>\n",
       "      <th>5</th>\n",
       "      <td>5</td>\n",
       "      <td>116</td>\n",
       "      <td>74</td>\n",
       "      <td>0</td>\n",
       "      <td>0</td>\n",
       "      <td>25.6</td>\n",
       "      <td>0.201</td>\n",
       "      <td>30</td>\n",
       "      <td>0</td>\n",
       "    </tr>\n",
       "    <tr>\n",
       "      <th>6</th>\n",
       "      <td>3</td>\n",
       "      <td>78</td>\n",
       "      <td>50</td>\n",
       "      <td>32</td>\n",
       "      <td>88</td>\n",
       "      <td>31.0</td>\n",
       "      <td>0.248</td>\n",
       "      <td>26</td>\n",
       "      <td>1</td>\n",
       "    </tr>\n",
       "    <tr>\n",
       "      <th>7</th>\n",
       "      <td>10</td>\n",
       "      <td>115</td>\n",
       "      <td>0</td>\n",
       "      <td>0</td>\n",
       "      <td>0</td>\n",
       "      <td>35.3</td>\n",
       "      <td>0.134</td>\n",
       "      <td>29</td>\n",
       "      <td>0</td>\n",
       "    </tr>\n",
       "    <tr>\n",
       "      <th>8</th>\n",
       "      <td>2</td>\n",
       "      <td>197</td>\n",
       "      <td>70</td>\n",
       "      <td>45</td>\n",
       "      <td>543</td>\n",
       "      <td>30.5</td>\n",
       "      <td>0.158</td>\n",
       "      <td>53</td>\n",
       "      <td>1</td>\n",
       "    </tr>\n",
       "    <tr>\n",
       "      <th>9</th>\n",
       "      <td>8</td>\n",
       "      <td>125</td>\n",
       "      <td>96</td>\n",
       "      <td>0</td>\n",
       "      <td>0</td>\n",
       "      <td>0.0</td>\n",
       "      <td>0.232</td>\n",
       "      <td>54</td>\n",
       "      <td>1</td>\n",
       "    </tr>\n",
       "  </tbody>\n",
       "</table>\n",
       "</div>"
      ],
      "text/plain": [
       "   Pregnancies  Glucose  BloodPressure  SkinThickness  Insulin   BMI  \\\n",
       "0            6      148             72             35        0  33.6   \n",
       "1            1       85             66             29        0  26.6   \n",
       "2            8      183             64              0        0  23.3   \n",
       "3            1       89             66             23       94  28.1   \n",
       "4            0      137             40             35      168  43.1   \n",
       "5            5      116             74              0        0  25.6   \n",
       "6            3       78             50             32       88  31.0   \n",
       "7           10      115              0              0        0  35.3   \n",
       "8            2      197             70             45      543  30.5   \n",
       "9            8      125             96              0        0   0.0   \n",
       "\n",
       "   DiabetesPedigreeFunction  Age  Outcome  \n",
       "0                     0.627   50        1  \n",
       "1                     0.351   31        0  \n",
       "2                     0.672   32        1  \n",
       "3                     0.167   21        0  \n",
       "4                     2.288   33        1  \n",
       "5                     0.201   30        0  \n",
       "6                     0.248   26        1  \n",
       "7                     0.134   29        0  \n",
       "8                     0.158   53        1  \n",
       "9                     0.232   54        1  "
      ]
     },
     "execution_count": 275,
     "metadata": {},
     "output_type": "execute_result"
    }
   ],
   "source": [
    "original_data = pd.read_csv(\"diabetes.csv\")\n",
    "data = original_data\n",
    "data.head(10)"
   ]
  },
  {
   "cell_type": "code",
   "execution_count": 276,
   "metadata": {
    "colab": {
     "base_uri": "https://localhost:8080/",
     "height": 296
    },
    "colab_type": "code",
    "executionInfo": {
     "elapsed": 1480,
     "status": "ok",
     "timestamp": 1583072844125,
     "user": {
      "displayName": "Artyom Volkov",
      "photoUrl": "",
      "userId": "14475346010427668464"
     },
     "user_tz": -180
    },
    "id": "glAj1vzba0xJ",
    "outputId": "863fe1af-4658-4b17-e95c-d46590485f0a"
   },
   "outputs": [
    {
     "data": {
      "text/plain": [
       "<AxesSubplot:xlabel='Outcome', ylabel='count'>"
      ]
     },
     "execution_count": 276,
     "metadata": {},
     "output_type": "execute_result"
    },
    {
     "data": {
      "image/png": "[encoded data removed]",
      "text/plain": [
       "<Figure size 432x288 with 1 Axes>"
      ]
     },
     "metadata": {
      "needs_background": "light"
     },
     "output_type": "display_data"
    }
   ],
   "source": [
    "sns.countplot(x='Outcome',data=data)"
   ]
  },
  {
   "cell_type": "markdown",
   "metadata": {
    "colab_type": "text",
    "id": "TXNjQTwTdiPK"
   },
   "source": [
    "При бинарной классификации более редкий класс обычно обозначается единицей; в данном случае датасет уже размечен соответствующим образом."
   ]
  },
  {
   "cell_type": "code",
   "execution_count": 277,
   "metadata": {
    "colab": {
     "base_uri": "https://localhost:8080/",
     "height": 229
    },
    "colab_type": "code",
    "executionInfo": {
     "elapsed": 1467,
     "status": "ok",
     "timestamp": 1583072844125,
     "user": {
      "displayName": "Artyom Volkov",
      "photoUrl": "",
      "userId": "14475346010427668464"
     },
     "user_tz": -180
    },
    "id": "EZlrxi1GvPL0",
    "outputId": "6ad2a799-f630-4e9d-cf06-e34efb05f083"
   },
   "outputs": [
    {
     "data": {
      "text/html": [
       "<style type=\"text/css\">\n",
       "#T_0ec56_row0_col0, #T_0ec56_row1_col1, #T_0ec56_row2_col2, #T_0ec56_row3_col3, #T_0ec56_row4_col4, #T_0ec56_row5_col5, #T_0ec56_row6_col6, #T_0ec56_row7_col7, #T_0ec56_row8_col8 {\n",
       "  background-color: #b40426;\n",
       "  color: #f1f1f1;\n",
       "}\n",
       "#T_0ec56_row0_col1 {\n",
       "  background-color: #516ddb;\n",
       "  color: #f1f1f1;\n",
       "}\n",
       "#T_0ec56_row0_col2 {\n",
       "  background-color: #5a78e4;\n",
       "  color: #f1f1f1;\n",
       "}\n",
       "#T_0ec56_row0_col3, #T_0ec56_row7_col4 {\n",
       "  background-color: #4358cb;\n",
       "  color: #f1f1f1;\n",
       "}\n",
       "#T_0ec56_row0_col4, #T_0ec56_row0_col5, #T_0ec56_row0_col6, #T_0ec56_row2_col8, #T_0ec56_row3_col0, #T_0ec56_row3_col1, #T_0ec56_row3_col7, #T_0ec56_row6_col2, #T_0ec56_row7_col3 {\n",
       "  background-color: #3b4cc0;\n",
       "  color: #f1f1f1;\n",
       "}\n",
       "#T_0ec56_row0_col7 {\n",
       "  background-color: #f1cdba;\n",
       "  color: #000000;\n",
       "}\n",
       "#T_0ec56_row0_col8, #T_0ec56_row1_col6 {\n",
       "  background-color: #6f92f3;\n",
       "  color: #f1f1f1;\n",
       "}\n",
       "#T_0ec56_row1_col0 {\n",
       "  background-color: #799cf8;\n",
       "  color: #f1f1f1;\n",
       "}\n",
       "#T_0ec56_row1_col2, #T_0ec56_row6_col8 {\n",
       "  background-color: #5e7de7;\n",
       "  color: #f1f1f1;\n",
       "}\n",
       "#T_0ec56_row1_col3 {\n",
       "  background-color: #6b8df0;\n",
       "  color: #f1f1f1;\n",
       "}\n",
       "#T_0ec56_row1_col4 {\n",
       "  background-color: #b9d0f9;\n",
       "  color: #000000;\n",
       "}\n",
       "#T_0ec56_row1_col5, #T_0ec56_row3_col6 {\n",
       "  background-color: #7ea1fa;\n",
       "  color: #f1f1f1;\n",
       "}\n",
       "#T_0ec56_row1_col7 {\n",
       "  background-color: #abc8fd;\n",
       "  color: #000000;\n",
       "}\n",
       "#T_0ec56_row1_col8 {\n",
       "  background-color: #c9d7f0;\n",
       "  color: #000000;\n",
       "}\n",
       "#T_0ec56_row2_col0, #T_0ec56_row7_col2 {\n",
       "  background-color: #7da0f9;\n",
       "  color: #f1f1f1;\n",
       "}\n",
       "#T_0ec56_row2_col1 {\n",
       "  background-color: #5977e3;\n",
       "  color: #f1f1f1;\n",
       "}\n",
       "#T_0ec56_row2_col3 {\n",
       "  background-color: #9abbff;\n",
       "  color: #000000;\n",
       "}\n",
       "#T_0ec56_row2_col4 {\n",
       "  background-color: #6a8bef;\n",
       "  color: #f1f1f1;\n",
       "}\n",
       "#T_0ec56_row2_col5, #T_0ec56_row6_col3 {\n",
       "  background-color: #93b5fe;\n",
       "  color: #000000;\n",
       "}\n",
       "#T_0ec56_row2_col6 {\n",
       "  background-color: #506bda;\n",
       "  color: #f1f1f1;\n",
       "}\n",
       "#T_0ec56_row2_col7 {\n",
       "  background-color: #a5c3fe;\n",
       "  color: #000000;\n",
       "}\n",
       "#T_0ec56_row3_col2, #T_0ec56_row5_col1 {\n",
       "  background-color: #7295f4;\n",
       "  color: #f1f1f1;\n",
       "}\n",
       "#T_0ec56_row3_col4 {\n",
       "  background-color: #d6dce4;\n",
       "  color: #000000;\n",
       "}\n",
       "#T_0ec56_row3_col5 {\n",
       "  background-color: #bad0f8;\n",
       "  color: #000000;\n",
       "}\n",
       "#T_0ec56_row3_col8 {\n",
       "  background-color: #3d50c3;\n",
       "  color: #f1f1f1;\n",
       "}\n",
       "#T_0ec56_row4_col0 {\n",
       "  background-color: #3c4ec2;\n",
       "  color: #f1f1f1;\n",
       "}\n",
       "#T_0ec56_row4_col1 {\n",
       "  background-color: #9bbcff;\n",
       "  color: #000000;\n",
       "}\n",
       "#T_0ec56_row4_col2 {\n",
       "  background-color: #4961d2;\n",
       "  color: #f1f1f1;\n",
       "}\n",
       "#T_0ec56_row4_col3 {\n",
       "  background-color: #dbdcde;\n",
       "  color: #000000;\n",
       "}\n",
       "#T_0ec56_row4_col5 {\n",
       "  background-color: #7597f6;\n",
       "  color: #f1f1f1;\n",
       "}\n",
       "#T_0ec56_row4_col6 {\n",
       "  background-color: #80a3fa;\n",
       "  color: #f1f1f1;\n",
       "}\n",
       "#T_0ec56_row4_col7, #T_0ec56_row7_col6 {\n",
       "  background-color: #4e68d8;\n",
       "  color: #f1f1f1;\n",
       "}\n",
       "#T_0ec56_row4_col8 {\n",
       "  background-color: #4f69d9;\n",
       "  color: #f1f1f1;\n",
       "}\n",
       "#T_0ec56_row5_col0 {\n",
       "  background-color: #5673e0;\n",
       "  color: #f1f1f1;\n",
       "}\n",
       "#T_0ec56_row5_col2, #T_0ec56_row5_col4 {\n",
       "  background-color: #8db0fe;\n",
       "  color: #000000;\n",
       "}\n",
       "#T_0ec56_row5_col3 {\n",
       "  background-color: #d1dae9;\n",
       "  color: #000000;\n",
       "}\n",
       "#T_0ec56_row5_col6, #T_0ec56_row8_col3 {\n",
       "  background-color: #7093f3;\n",
       "  color: #f1f1f1;\n",
       "}\n",
       "#T_0ec56_row5_col7 {\n",
       "  background-color: #6485ec;\n",
       "  color: #f1f1f1;\n",
       "}\n",
       "#T_0ec56_row5_col8 {\n",
       "  background-color: #8badfd;\n",
       "  color: #000000;\n",
       "}\n",
       "#T_0ec56_row6_col0 {\n",
       "  background-color: #485fd1;\n",
       "  color: #f1f1f1;\n",
       "}\n",
       "#T_0ec56_row6_col1 {\n",
       "  background-color: #5470de;\n",
       "  color: #f1f1f1;\n",
       "}\n",
       "#T_0ec56_row6_col4 {\n",
       "  background-color: #89acfd;\n",
       "  color: #000000;\n",
       "}\n",
       "#T_0ec56_row6_col5 {\n",
       "  background-color: #6282ea;\n",
       "  color: #f1f1f1;\n",
       "}\n",
       "#T_0ec56_row6_col7 {\n",
       "  background-color: #6384eb;\n",
       "  color: #f1f1f1;\n",
       "}\n",
       "#T_0ec56_row7_col0 {\n",
       "  background-color: #efcfbf;\n",
       "  color: #000000;\n",
       "}\n",
       "#T_0ec56_row7_col1 {\n",
       "  background-color: #81a4fb;\n",
       "  color: #f1f1f1;\n",
       "}\n",
       "#T_0ec56_row7_col5 {\n",
       "  background-color: #3f53c6;\n",
       "  color: #f1f1f1;\n",
       "}\n",
       "#T_0ec56_row7_col8 {\n",
       "  background-color: #7699f6;\n",
       "  color: #f1f1f1;\n",
       "}\n",
       "#T_0ec56_row8_col0, #T_0ec56_row8_col5 {\n",
       "  background-color: #97b8ff;\n",
       "  color: #000000;\n",
       "}\n",
       "#T_0ec56_row8_col1 {\n",
       "  background-color: #cbd8ee;\n",
       "  color: #000000;\n",
       "}\n",
       "#T_0ec56_row8_col2 {\n",
       "  background-color: #4257c9;\n",
       "  color: #f1f1f1;\n",
       "}\n",
       "#T_0ec56_row8_col4 {\n",
       "  background-color: #779af7;\n",
       "  color: #f1f1f1;\n",
       "}\n",
       "#T_0ec56_row8_col6 {\n",
       "  background-color: #7b9ff9;\n",
       "  color: #f1f1f1;\n",
       "}\n",
       "#T_0ec56_row8_col7 {\n",
       "  background-color: #a3c2fe;\n",
       "  color: #000000;\n",
       "}\n",
       "</style>\n",
       "<table id=\"T_0ec56\">\n",
       "  <thead>\n",
       "    <tr>\n",
       "      <th class=\"blank level0\" >&nbsp;</th>\n",
       "      <th id=\"T_0ec56_level0_col0\" class=\"col_heading level0 col0\" >Pregnancies</th>\n",
       "      <th id=\"T_0ec56_level0_col1\" class=\"col_heading level0 col1\" >Glucose</th>\n",
       "      <th id=\"T_0ec56_level0_col2\" class=\"col_heading level0 col2\" >BloodPressure</th>\n",
       "      <th id=\"T_0ec56_level0_col3\" class=\"col_heading level0 col3\" >SkinThickness</th>\n",
       "      <th id=\"T_0ec56_level0_col4\" class=\"col_heading level0 col4\" >Insulin</th>\n",
       "      <th id=\"T_0ec56_level0_col5\" class=\"col_heading level0 col5\" >BMI</th>\n",
       "      <th id=\"T_0ec56_level0_col6\" class=\"col_heading level0 col6\" >DiabetesPedigreeFunction</th>\n",
       "      <th id=\"T_0ec56_level0_col7\" class=\"col_heading level0 col7\" >Age</th>\n",
       "      <th id=\"T_0ec56_level0_col8\" class=\"col_heading level0 col8\" >Outcome</th>\n",
       "    </tr>\n",
       "  </thead>\n",
       "  <tbody>\n",
       "    <tr>\n",
       "      <th id=\"T_0ec56_level0_row0\" class=\"row_heading level0 row0\" >Pregnancies</th>\n",
       "      <td id=\"T_0ec56_row0_col0\" class=\"data row0 col0\" >1.000000</td>\n",
       "      <td id=\"T_0ec56_row0_col1\" class=\"data row0 col1\" >0.129459</td>\n",
       "      <td id=\"T_0ec56_row0_col2\" class=\"data row0 col2\" >0.141282</td>\n",
       "      <td id=\"T_0ec56_row0_col3\" class=\"data row0 col3\" >-0.081672</td>\n",
       "      <td id=\"T_0ec56_row0_col4\" class=\"data row0 col4\" >-0.073535</td>\n",
       "      <td id=\"T_0ec56_row0_col5\" class=\"data row0 col5\" >0.017683</td>\n",
       "      <td id=\"T_0ec56_row0_col6\" class=\"data row0 col6\" >-0.033523</td>\n",
       "      <td id=\"T_0ec56_row0_col7\" class=\"data row0 col7\" >0.544341</td>\n",
       "      <td id=\"T_0ec56_row0_col8\" class=\"data row0 col8\" >0.221898</td>\n",
       "    </tr>\n",
       "    <tr>\n",
       "      <th id=\"T_0ec56_level0_row1\" class=\"row_heading level0 row1\" >Glucose</th>\n",
       "      <td id=\"T_0ec56_row1_col0\" class=\"data row1 col0\" >0.129459</td>\n",
       "      <td id=\"T_0ec56_row1_col1\" class=\"data row1 col1\" >1.000000</td>\n",
       "      <td id=\"T_0ec56_row1_col2\" class=\"data row1 col2\" >0.152590</td>\n",
       "      <td id=\"T_0ec56_row1_col3\" class=\"data row1 col3\" >0.057328</td>\n",
       "      <td id=\"T_0ec56_row1_col4\" class=\"data row1 col4\" >0.331357</td>\n",
       "      <td id=\"T_0ec56_row1_col5\" class=\"data row1 col5\" >0.221071</td>\n",
       "      <td id=\"T_0ec56_row1_col6\" class=\"data row1 col6\" >0.137337</td>\n",
       "      <td id=\"T_0ec56_row1_col7\" class=\"data row1 col7\" >0.263514</td>\n",
       "      <td id=\"T_0ec56_row1_col8\" class=\"data row1 col8\" >0.466581</td>\n",
       "    </tr>\n",
       "    <tr>\n",
       "      <th id=\"T_0ec56_level0_row2\" class=\"row_heading level0 row2\" >BloodPressure</th>\n",
       "      <td id=\"T_0ec56_row2_col0\" class=\"data row2 col0\" >0.141282</td>\n",
       "      <td id=\"T_0ec56_row2_col1\" class=\"data row2 col1\" >0.152590</td>\n",
       "      <td id=\"T_0ec56_row2_col2\" class=\"data row2 col2\" >1.000000</td>\n",
       "      <td id=\"T_0ec56_row2_col3\" class=\"data row2 col3\" >0.207371</td>\n",
       "      <td id=\"T_0ec56_row2_col4\" class=\"data row2 col4\" >0.088933</td>\n",
       "      <td id=\"T_0ec56_row2_col5\" class=\"data row2 col5\" >0.281805</td>\n",
       "      <td id=\"T_0ec56_row2_col6\" class=\"data row2 col6\" >0.041265</td>\n",
       "      <td id=\"T_0ec56_row2_col7\" class=\"data row2 col7\" >0.239528</td>\n",
       "      <td id=\"T_0ec56_row2_col8\" class=\"data row2 col8\" >0.065068</td>\n",
       "    </tr>\n",
       "    <tr>\n",
       "      <th id=\"T_0ec56_level0_row3\" class=\"row_heading level0 row3\" >SkinThickness</th>\n",
       "      <td id=\"T_0ec56_row3_col0\" class=\"data row3 col0\" >-0.081672</td>\n",
       "      <td id=\"T_0ec56_row3_col1\" class=\"data row3 col1\" >0.057328</td>\n",
       "      <td id=\"T_0ec56_row3_col2\" class=\"data row3 col2\" >0.207371</td>\n",
       "      <td id=\"T_0ec56_row3_col3\" class=\"data row3 col3\" >1.000000</td>\n",
       "      <td id=\"T_0ec56_row3_col4\" class=\"data row3 col4\" >0.436783</td>\n",
       "      <td id=\"T_0ec56_row3_col5\" class=\"data row3 col5\" >0.392573</td>\n",
       "      <td id=\"T_0ec56_row3_col6\" class=\"data row3 col6\" >0.183928</td>\n",
       "      <td id=\"T_0ec56_row3_col7\" class=\"data row3 col7\" >-0.113970</td>\n",
       "      <td id=\"T_0ec56_row3_col8\" class=\"data row3 col8\" >0.074752</td>\n",
       "    </tr>\n",
       "    <tr>\n",
       "      <th id=\"T_0ec56_level0_row4\" class=\"row_heading level0 row4\" >Insulin</th>\n",
       "      <td id=\"T_0ec56_row4_col0\" class=\"data row4 col0\" >-0.073535</td>\n",
       "      <td id=\"T_0ec56_row4_col1\" class=\"data row4 col1\" >0.331357</td>\n",
       "      <td id=\"T_0ec56_row4_col2\" class=\"data row4 col2\" >0.088933</td>\n",
       "      <td id=\"T_0ec56_row4_col3\" class=\"data row4 col3\" >0.436783</td>\n",
       "      <td id=\"T_0ec56_row4_col4\" class=\"data row4 col4\" >1.000000</td>\n",
       "      <td id=\"T_0ec56_row4_col5\" class=\"data row4 col5\" >0.197859</td>\n",
       "      <td id=\"T_0ec56_row4_col6\" class=\"data row4 col6\" >0.185071</td>\n",
       "      <td id=\"T_0ec56_row4_col7\" class=\"data row4 col7\" >-0.042163</td>\n",
       "      <td id=\"T_0ec56_row4_col8\" class=\"data row4 col8\" >0.130548</td>\n",
       "    </tr>\n",
       "    <tr>\n",
       "      <th id=\"T_0ec56_level0_row5\" class=\"row_heading level0 row5\" >BMI</th>\n",
       "      <td id=\"T_0ec56_row5_col0\" class=\"data row5 col0\" >0.017683</td>\n",
       "      <td id=\"T_0ec56_row5_col1\" class=\"data row5 col1\" >0.221071</td>\n",
       "      <td id=\"T_0ec56_row5_col2\" class=\"data row5 col2\" >0.281805</td>\n",
       "      <td id=\"T_0ec56_row5_col3\" class=\"data row5 col3\" >0.392573</td>\n",
       "      <td id=\"T_0ec56_row5_col4\" class=\"data row5 col4\" >0.197859</td>\n",
       "      <td id=\"T_0ec56_row5_col5\" class=\"data row5 col5\" >1.000000</td>\n",
       "      <td id=\"T_0ec56_row5_col6\" class=\"data row5 col6\" >0.140647</td>\n",
       "      <td id=\"T_0ec56_row5_col7\" class=\"data row5 col7\" >0.036242</td>\n",
       "      <td id=\"T_0ec56_row5_col8\" class=\"data row5 col8\" >0.292695</td>\n",
       "    </tr>\n",
       "    <tr>\n",
       "      <th id=\"T_0ec56_level0_row6\" class=\"row_heading level0 row6\" >DiabetesPedigreeFunction</th>\n",
       "      <td id=\"T_0ec56_row6_col0\" class=\"data row6 col0\" >-0.033523</td>\n",
       "      <td id=\"T_0ec56_row6_col1\" class=\"data row6 col1\" >0.137337</td>\n",
       "      <td id=\"T_0ec56_row6_col2\" class=\"data row6 col2\" >0.041265</td>\n",
       "      <td id=\"T_0ec56_row6_col3\" class=\"data row6 col3\" >0.183928</td>\n",
       "      <td id=\"T_0ec56_row6_col4\" class=\"data row6 col4\" >0.185071</td>\n",
       "      <td id=\"T_0ec56_row6_col5\" class=\"data row6 col5\" >0.140647</td>\n",
       "      <td id=\"T_0ec56_row6_col6\" class=\"data row6 col6\" >1.000000</td>\n",
       "      <td id=\"T_0ec56_row6_col7\" class=\"data row6 col7\" >0.033561</td>\n",
       "      <td id=\"T_0ec56_row6_col8\" class=\"data row6 col8\" >0.173844</td>\n",
       "    </tr>\n",
       "    <tr>\n",
       "      <th id=\"T_0ec56_level0_row7\" class=\"row_heading level0 row7\" >Age</th>\n",
       "      <td id=\"T_0ec56_row7_col0\" class=\"data row7 col0\" >0.544341</td>\n",
       "      <td id=\"T_0ec56_row7_col1\" class=\"data row7 col1\" >0.263514</td>\n",
       "      <td id=\"T_0ec56_row7_col2\" class=\"data row7 col2\" >0.239528</td>\n",
       "      <td id=\"T_0ec56_row7_col3\" class=\"data row7 col3\" >-0.113970</td>\n",
       "      <td id=\"T_0ec56_row7_col4\" class=\"data row7 col4\" >-0.042163</td>\n",
       "      <td id=\"T_0ec56_row7_col5\" class=\"data row7 col5\" >0.036242</td>\n",
       "      <td id=\"T_0ec56_row7_col6\" class=\"data row7 col6\" >0.033561</td>\n",
       "      <td id=\"T_0ec56_row7_col7\" class=\"data row7 col7\" >1.000000</td>\n",
       "      <td id=\"T_0ec56_row7_col8\" class=\"data row7 col8\" >0.238356</td>\n",
       "    </tr>\n",
       "    <tr>\n",
       "      <th id=\"T_0ec56_level0_row8\" class=\"row_heading level0 row8\" >Outcome</th>\n",
       "      <td id=\"T_0ec56_row8_col0\" class=\"data row8 col0\" >0.221898</td>\n",
       "      <td id=\"T_0ec56_row8_col1\" class=\"data row8 col1\" >0.466581</td>\n",
       "      <td id=\"T_0ec56_row8_col2\" class=\"data row8 col2\" >0.065068</td>\n",
       "      <td id=\"T_0ec56_row8_col3\" class=\"data row8 col3\" >0.074752</td>\n",
       "      <td id=\"T_0ec56_row8_col4\" class=\"data row8 col4\" >0.130548</td>\n",
       "      <td id=\"T_0ec56_row8_col5\" class=\"data row8 col5\" >0.292695</td>\n",
       "      <td id=\"T_0ec56_row8_col6\" class=\"data row8 col6\" >0.173844</td>\n",
       "      <td id=\"T_0ec56_row8_col7\" class=\"data row8 col7\" >0.238356</td>\n",
       "      <td id=\"T_0ec56_row8_col8\" class=\"data row8 col8\" >1.000000</td>\n",
       "    </tr>\n",
       "  </tbody>\n",
       "</table>\n"
      ],
      "text/plain": [
       "<pandas.io.formats.style.Styler at 0x1bde0a79370>"
      ]
     },
     "execution_count": 277,
     "metadata": {},
     "output_type": "execute_result"
    }
   ],
   "source": [
    "corr_matrix = data.corr()\n",
    "corr_matrix.style.background_gradient(cmap='coolwarm')"
   ]
  },
  {
   "cell_type": "markdown",
   "metadata": {
    "colab_type": "text",
    "id": "V2QnWaRXeE64"
   },
   "source": [
    "Проанализировав данные, мы сделали следующие выводы:\n",
    "\n",
    "*   среди данных по глюкозе, кровяному давлению, толщине кожи, инсулину и индексу массы тела встречается много очевидно ошибочных нулевых значений;\n",
    "*   двузначное количество беременностей имеет тенденцию негативно сказываться на вашем здоровье.\n",
    "\n",
    "\n"
   ]
  },
  {
   "cell_type": "markdown",
   "metadata": {
    "colab_type": "text",
    "id": "97-Q3qXOJQhf"
   },
   "source": [
    "Создадим модель для алгоритма классификации:"
   ]
  },
  {
   "cell_type": "code",
   "execution_count": 278,
   "metadata": {},
   "outputs": [],
   "source": [
    "y = data['Outcome']\n",
    "del data['Outcome']\n",
    "del data['Insulin']"
   ]
  },
  {
   "cell_type": "code",
   "execution_count": 279,
   "metadata": {},
   "outputs": [],
   "source": [
    "# data = data[data['Glucose'].isnull()] \n",
    "# data = data[data['BloodPressure'].isnull()] \n",
    "# data = data[data['SkinThickness'].isnull()] \n",
    "# data = data[data['Insulin'].isnull()] \n",
    "data.dropna(subset=['Glucose'],how='all', inplace=True)\n",
    "data.dropna(subset=['BloodPressure'],how='all', inplace=True)\n",
    "data.dropna(subset=['SkinThickness'],how='all', inplace=True)\n",
    "data.dropna(subset=['BMI'],how='all', inplace=True)\n"
   ]
  },
  {
   "cell_type": "code",
   "execution_count": 280,
   "metadata": {},
   "outputs": [],
   "source": [
    "X_train, X_test, y_train, y_test = train_test_split(data, y, test_size=0.2, random_state=42)\n",
    "logit = LogisticRegression(C=0.7, random_state=17, solver='liblinear')"
   ]
  },
  {
   "cell_type": "code",
   "execution_count": 255,
   "metadata": {},
   "outputs": [
    {
     "data": {
      "text/plain": [
       "LogisticRegression(C=0.7, random_state=17, solver='liblinear')"
      ]
     },
     "execution_count": 255,
     "metadata": {},
     "output_type": "execute_result"
    }
   ],
   "source": [
    "logit.fit(X_train, y_train)"
   ]
  },
  {
   "cell_type": "code",
   "execution_count": 256,
   "metadata": {},
   "outputs": [],
   "source": [
    "y_test_proba = logit.predict(X_test)"
   ]
  },
  {
   "cell_type": "code",
   "execution_count": 257,
   "metadata": {},
   "outputs": [
    {
     "data": {
      "text/plain": [
       "0.7727272727272727"
      ]
     },
     "execution_count": 257,
     "metadata": {},
     "output_type": "execute_result"
    }
   ],
   "source": [
    "accuracy_score(y_test, y_test_proba)"
   ]
  },
  {
   "cell_type": "code",
   "execution_count": 258,
   "metadata": {},
   "outputs": [
    {
     "data": {
      "text/plain": [
       "0.717391304347826"
      ]
     },
     "execution_count": 258,
     "metadata": {},
     "output_type": "execute_result"
    }
   ],
   "source": [
    "precision_score(y_test, y_test_proba)"
   ]
  },
  {
   "cell_type": "code",
   "execution_count": 246,
   "metadata": {},
   "outputs": [
    {
     "data": {
      "text/plain": [
       "0.6"
      ]
     },
     "execution_count": 246,
     "metadata": {},
     "output_type": "execute_result"
    }
   ],
   "source": [
    "recall_score(y_test, y_test_proba)"
   ]
  },
  {
   "cell_type": "code",
   "execution_count": null,
   "metadata": {},
   "outputs": [],
   "source": []
  },
  {
   "cell_type": "code",
   "execution_count": 161,
   "metadata": {},
   "outputs": [],
   "source": [
    "# data['Glucose'].replace('', np.nan, inplace=True)\n",
    "# # data['BloodPressure'].replace('', np.nan, inplace=True)\n",
    "# data['SkinThickness'].replace('', np.nan, inplace=True)\n",
    "# data['Insulin'].replace('', np.nan, inplace=True)\n",
    "# data['BMI'].replace('', np.nan, inplace=True)\n",
    "data.dropna(subset=['Glucose'], inplace=True)\n",
    "data.dropna(subset=['BloodPressure'], inplace=True)\n",
    "data.dropna(subset=['SkinThickness'], inplace=True)\n",
    "data.dropna(subset=['Insulin'], inplace=True)\n",
    "data.dropna(subset=['BMI'], inplace=True)\n",
    "\n",
    "\n",
    "# data = data['Glucose']"
   ]
  },
  {
   "cell_type": "code",
   "execution_count": null,
   "metadata": {},
   "outputs": [],
   "source": []
  },
  {
   "cell_type": "code",
   "execution_count": null,
   "metadata": {},
   "outputs": [],
   "source": []
  },
  {
   "cell_type": "code",
   "execution_count": null,
   "metadata": {},
   "outputs": [],
   "source": []
  },
  {
   "cell_type": "code",
   "execution_count": null,
   "metadata": {},
   "outputs": [],
   "source": []
  },
  {
   "cell_type": "code",
   "execution_count": null,
   "metadata": {},
   "outputs": [],
   "source": []
  },
  {
   "cell_type": "code",
   "execution_count": null,
   "metadata": {},
   "outputs": [],
   "source": []
  }
 ],
 "metadata": {
  "colab": {
   "authorship_tag": "ABX9TyNI6mwBV3C4D7+NnmztBNPV",
   "collapsed_sections": [],
   "name": "[Gradient Descent] Workshop 2 - Classification",
   "provenance": [
    {
     "file_id": "1KFkjHdoDdxJ0_7PSPhwPb_w4fK0vExWz",
     "timestamp": 1583066721100
    },
    {
     "file_id": "1fKbWWKoIIKY68JeBy-Cdk7x-YdG99N8z",
     "timestamp": 1582963810825
    }
   ]
  },
  "kernelspec": {
   "display_name": "Python 3",
   "language": "python",
   "name": "python3"
  },
  "language_info": {
   "codemirror_mode": {
    "name": "ipython",
    "version": 3
   },
   "file_extension": ".py",
   "mimetype": "text/x-python",
   "name": "python",
   "nbconvert_exporter": "python",
   "pygments_lexer": "ipython3",
   "version": "3.9.7"
  }
 },
 "nbformat": 4,
 "nbformat_minor": 1
}
