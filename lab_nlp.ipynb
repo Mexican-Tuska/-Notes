{
  "cells": [
    {
      "cell_type": "markdown",
      "metadata": {
        "id": "tWxh28VtTFYl"
      },
      "source": [
        "# Работа с текстом на естественном языке.\n"
      ]
    },
    {
      "cell_type": "markdown",
      "metadata": {
        "id": "Fg5Y-lflsoTl"
      },
      "source": [
        "Пример работы word2vec"
      ]
    },
    {
      "cell_type": "code",
      "execution_count": 73,
      "metadata": {
        "colab": {
          "base_uri": "https://localhost:8080/",
          "height": 90
        },
        "id": "xeujh3DycwNG",
        "outputId": "0baf41b0-adef-408e-e525-ea1b95a5643a"
      },
      "outputs": [],
      "source": [
        "from gensim.models.word2vec import Word2Vec\n",
        "import gensim.downloader as api\n",
        "\n",
        "#lang_model = api.load(\"glove-twitter-25\")\n",
        "lang_model = api.load(\"glove-wiki-gigaword-100\")"
      ]
    },
    {
      "cell_type": "code",
      "execution_count": 74,
      "metadata": {
        "colab": {
          "base_uri": "https://localhost:8080/"
        },
        "id": "JOs8uZbje4_t",
        "outputId": "57858b78-ecad-469d-af42-1e948f8a86d0"
      },
      "outputs": [
        {
          "data": {
            "text/plain": [
              "[('queen', 0.7698540687561035),\n",
              " ('monarch', 0.6843381524085999),\n",
              " ('throne', 0.6755736470222473),\n",
              " ('daughter', 0.6594556570053101),\n",
              " ('princess', 0.6520534157752991),\n",
              " ('prince', 0.6517034769058228),\n",
              " ('elizabeth', 0.6464517712593079),\n",
              " ('mother', 0.631171703338623),\n",
              " ('emperor', 0.6106470823287964),\n",
              " ('wife', 0.6098655462265015)]"
            ]
          },
          "execution_count": 74,
          "metadata": {},
          "output_type": "execute_result"
        }
      ],
      "source": [
        "# king + (woman - man)\n",
        "lang_model.most_similar(positive=['king', 'woman'], negative=['man'], topn=10)"
      ]
    },
    {
      "cell_type": "code",
      "execution_count": 75,
      "metadata": {
        "colab": {
          "base_uri": "https://localhost:8080/"
        },
        "id": "7oGYPCzeqglv",
        "outputId": "057363cc-a186-4112-c152-0322252bc4fe"
      },
      "outputs": [
        {
          "data": {
            "text/plain": [
              "[('france', 0.8784569501876831),\n",
              " ('french', 0.6961610317230225),\n",
              " ('britain', 0.6948201656341553),\n",
              " ('europe', 0.6841811537742615),\n",
              " ('belgium', 0.6787702441215515),\n",
              " ('spain', 0.6482120752334595),\n",
              " ('switzerland', 0.643441379070282),\n",
              " ('italy', 0.6415969729423523),\n",
              " ('germany', 0.6362987160682678),\n",
              " ('prohertrib', 0.6314049363136292)]"
            ]
          },
          "execution_count": 75,
          "metadata": {},
          "output_type": "execute_result"
        }
      ],
      "source": [
        "lang_model.most_similar(positive=['russia', 'paris'], negative=['moscow'], topn=10)"
      ]
    },
    {
      "cell_type": "markdown",
      "metadata": {
        "id": "Tywv4jzisr37"
      },
      "source": [
        "Сентиментальный анализ текста"
      ]
    },
    {
      "cell_type": "code",
      "execution_count": 76,
      "metadata": {
        "id": "VRLMujfGq9uv"
      },
      "outputs": [],
      "source": [
        "import pandas as pd\n",
        "import numpy as np\n",
        "\n",
        "sentiment_ds = pd.read_csv('https://raw.githubusercontent.com/WiMLDS/election-data-hackathon/master/first-gop-debate-twitter-sentiment/data/Sentiment.csv')"
      ]
    },
    {
      "cell_type": "code",
      "execution_count": 77,
      "metadata": {
        "colab": {
          "base_uri": "https://localhost:8080/",
          "height": 206
        },
        "id": "Cd8Awtt7q9zZ",
        "outputId": "d644015a-82d6-4d98-cc7c-4e472885920b"
      },
      "outputs": [
        {
          "data": {
            "text/html": [
              "<div>\n",
              "<style scoped>\n",
              "    .dataframe tbody tr th:only-of-type {\n",
              "        vertical-align: middle;\n",
              "    }\n",
              "\n",
              "    .dataframe tbody tr th {\n",
              "        vertical-align: top;\n",
              "    }\n",
              "\n",
              "    .dataframe thead th {\n",
              "        text-align: right;\n",
              "    }\n",
              "</style>\n",
              "<table border=\"1\" class=\"dataframe\">\n",
              "  <thead>\n",
              "    <tr style=\"text-align: right;\">\n",
              "      <th></th>\n",
              "      <th>sentiment</th>\n",
              "      <th>text</th>\n",
              "    </tr>\n",
              "  </thead>\n",
              "  <tbody>\n",
              "    <tr>\n",
              "      <th>0</th>\n",
              "      <td>Neutral</td>\n",
              "      <td>RT @NancyLeeGrahn: How did everyone feel about...</td>\n",
              "    </tr>\n",
              "    <tr>\n",
              "      <th>1</th>\n",
              "      <td>Positive</td>\n",
              "      <td>RT @ScottWalker: Didn't catch the full #GOPdeb...</td>\n",
              "    </tr>\n",
              "    <tr>\n",
              "      <th>2</th>\n",
              "      <td>Neutral</td>\n",
              "      <td>RT @TJMShow: No mention of Tamir Rice and the ...</td>\n",
              "    </tr>\n",
              "    <tr>\n",
              "      <th>3</th>\n",
              "      <td>Positive</td>\n",
              "      <td>RT @RobGeorge: That Carly Fiorina is trending ...</td>\n",
              "    </tr>\n",
              "    <tr>\n",
              "      <th>4</th>\n",
              "      <td>Positive</td>\n",
              "      <td>RT @DanScavino: #GOPDebate w/ @realDonaldTrump...</td>\n",
              "    </tr>\n",
              "  </tbody>\n",
              "</table>\n",
              "</div>"
            ],
            "text/plain": [
              "  sentiment                                               text\n",
              "0   Neutral  RT @NancyLeeGrahn: How did everyone feel about...\n",
              "1  Positive  RT @ScottWalker: Didn't catch the full #GOPdeb...\n",
              "2   Neutral  RT @TJMShow: No mention of Tamir Rice and the ...\n",
              "3  Positive  RT @RobGeorge: That Carly Fiorina is trending ...\n",
              "4  Positive  RT @DanScavino: #GOPDebate w/ @realDonaldTrump..."
            ]
          },
          "execution_count": 77,
          "metadata": {},
          "output_type": "execute_result"
        }
      ],
      "source": [
        "sentiment_small = sentiment_ds[['sentiment', 'text']]\n",
        "sentiment_small.head()"
      ]
    },
    {
      "cell_type": "code",
      "execution_count": 78,
      "metadata": {
        "colab": {
          "base_uri": "https://localhost:8080/",
          "height": 206
        },
        "id": "NJBB0uShq95U",
        "outputId": "628c35e7-df02-44b4-a286-34daedc77b21"
      },
      "outputs": [
        {
          "data": {
            "text/html": [
              "<div>\n",
              "<style scoped>\n",
              "    .dataframe tbody tr th:only-of-type {\n",
              "        vertical-align: middle;\n",
              "    }\n",
              "\n",
              "    .dataframe tbody tr th {\n",
              "        vertical-align: top;\n",
              "    }\n",
              "\n",
              "    .dataframe thead th {\n",
              "        text-align: right;\n",
              "    }\n",
              "</style>\n",
              "<table border=\"1\" class=\"dataframe\">\n",
              "  <thead>\n",
              "    <tr style=\"text-align: right;\">\n",
              "      <th></th>\n",
              "      <th>sentiment</th>\n",
              "      <th>text</th>\n",
              "    </tr>\n",
              "  </thead>\n",
              "  <tbody>\n",
              "    <tr>\n",
              "      <th>1</th>\n",
              "      <td>Positive</td>\n",
              "      <td>RT @ScottWalker: Didn't catch the full #GOPdeb...</td>\n",
              "    </tr>\n",
              "    <tr>\n",
              "      <th>3</th>\n",
              "      <td>Positive</td>\n",
              "      <td>RT @RobGeorge: That Carly Fiorina is trending ...</td>\n",
              "    </tr>\n",
              "    <tr>\n",
              "      <th>4</th>\n",
              "      <td>Positive</td>\n",
              "      <td>RT @DanScavino: #GOPDebate w/ @realDonaldTrump...</td>\n",
              "    </tr>\n",
              "    <tr>\n",
              "      <th>5</th>\n",
              "      <td>Positive</td>\n",
              "      <td>RT @GregAbbott_TX: @TedCruz: \"On my first day ...</td>\n",
              "    </tr>\n",
              "    <tr>\n",
              "      <th>6</th>\n",
              "      <td>Negative</td>\n",
              "      <td>RT @warriorwoman91: I liked her and was happy ...</td>\n",
              "    </tr>\n",
              "  </tbody>\n",
              "</table>\n",
              "</div>"
            ],
            "text/plain": [
              "  sentiment                                               text\n",
              "1  Positive  RT @ScottWalker: Didn't catch the full #GOPdeb...\n",
              "3  Positive  RT @RobGeorge: That Carly Fiorina is trending ...\n",
              "4  Positive  RT @DanScavino: #GOPDebate w/ @realDonaldTrump...\n",
              "5  Positive  RT @GregAbbott_TX: @TedCruz: \"On my first day ...\n",
              "6  Negative  RT @warriorwoman91: I liked her and was happy ..."
            ]
          },
          "execution_count": 78,
          "metadata": {},
          "output_type": "execute_result"
        }
      ],
      "source": [
        "pos_neg_sentiment = sentiment_small[sentiment_small.sentiment != 'Neutral']\n",
        "pos_neg_sentiment.head()"
      ]
    },
    {
      "cell_type": "code",
      "execution_count": 79,
      "metadata": {
        "colab": {
          "base_uri": "https://localhost:8080/",
          "height": 206
        },
        "id": "5ad2l3sRq98W",
        "outputId": "60560215-d199-4276-aa0c-40bdafd555c0"
      },
      "outputs": [
        {
          "data": {
            "text/html": [
              "<div>\n",
              "<style scoped>\n",
              "    .dataframe tbody tr th:only-of-type {\n",
              "        vertical-align: middle;\n",
              "    }\n",
              "\n",
              "    .dataframe tbody tr th {\n",
              "        vertical-align: top;\n",
              "    }\n",
              "\n",
              "    .dataframe thead th {\n",
              "        text-align: right;\n",
              "    }\n",
              "</style>\n",
              "<table border=\"1\" class=\"dataframe\">\n",
              "  <thead>\n",
              "    <tr style=\"text-align: right;\">\n",
              "      <th></th>\n",
              "      <th>sentiment</th>\n",
              "      <th>text</th>\n",
              "    </tr>\n",
              "  </thead>\n",
              "  <tbody>\n",
              "    <tr>\n",
              "      <th>1</th>\n",
              "      <td>1</td>\n",
              "      <td>RT @ScottWalker: Didn't catch the full #GOPdeb...</td>\n",
              "    </tr>\n",
              "    <tr>\n",
              "      <th>3</th>\n",
              "      <td>1</td>\n",
              "      <td>RT @RobGeorge: That Carly Fiorina is trending ...</td>\n",
              "    </tr>\n",
              "    <tr>\n",
              "      <th>4</th>\n",
              "      <td>1</td>\n",
              "      <td>RT @DanScavino: #GOPDebate w/ @realDonaldTrump...</td>\n",
              "    </tr>\n",
              "    <tr>\n",
              "      <th>5</th>\n",
              "      <td>1</td>\n",
              "      <td>RT @GregAbbott_TX: @TedCruz: \"On my first day ...</td>\n",
              "    </tr>\n",
              "    <tr>\n",
              "      <th>6</th>\n",
              "      <td>0</td>\n",
              "      <td>RT @warriorwoman91: I liked her and was happy ...</td>\n",
              "    </tr>\n",
              "  </tbody>\n",
              "</table>\n",
              "</div>"
            ],
            "text/plain": [
              "   sentiment                                               text\n",
              "1          1  RT @ScottWalker: Didn't catch the full #GOPdeb...\n",
              "3          1  RT @RobGeorge: That Carly Fiorina is trending ...\n",
              "4          1  RT @DanScavino: #GOPDebate w/ @realDonaldTrump...\n",
              "5          1  RT @GregAbbott_TX: @TedCruz: \"On my first day ...\n",
              "6          0  RT @warriorwoman91: I liked her and was happy ..."
            ]
          },
          "execution_count": 79,
          "metadata": {},
          "output_type": "execute_result"
        }
      ],
      "source": [
        "from pandas.api.types import CategoricalDtype\n",
        "\n",
        "clean_sentiment_ds = pos_neg_sentiment.copy()\n",
        "clean_sentiment_ds.sentiment = clean_sentiment_ds.sentiment.astype(CategoricalDtype(categories = ['Negative', 'Positive'], ordered=True)).cat.codes\n",
        "clean_sentiment_ds.head()"
      ]
    },
    {
      "cell_type": "code",
      "execution_count": 80,
      "metadata": {
        "colab": {
          "base_uri": "https://localhost:8080/",
          "height": 351
        },
        "id": "sop-SwzDr2Yp",
        "outputId": "abff170c-fb48-46ff-d18e-fb44ca1b0a35"
      },
      "outputs": [
        {
          "name": "stderr",
          "output_type": "stream",
          "text": [
            "C:\\Users\\tuska\\AppData\\Local\\Programs\\Python\\Python39\\lib\\site-packages\\seaborn\\_decorators.py:36: FutureWarning: Pass the following variable as a keyword arg: x. From version 0.12, the only valid positional argument will be `data`, and passing other arguments without an explicit keyword will result in an error or misinterpretation.\n",
            "  warnings.warn(\n"
          ]
        },
        {
          "data": {
            "text/plain": [
              "<AxesSubplot:xlabel='sentiment', ylabel='count'>"
            ]
          },
          "execution_count": 80,
          "metadata": {},
          "output_type": "execute_result"
        },
        {
          "data": {
            "image/png": "[encoded data removed]",
            "text/plain": [
              "<Figure size 432x288 with 1 Axes>"
            ]
          },
          "metadata": {
            "needs_background": "light"
          },
          "output_type": "display_data"
        }
      ],
      "source": [
        "import seaborn as sns\n",
        "\n",
        "sns.countplot(clean_sentiment_ds['sentiment'])"
      ]
    },
    {
      "cell_type": "code",
      "execution_count": 81,
      "metadata": {
        "id": "dx68FIQpr2bs"
      },
      "outputs": [],
      "source": [
        "import re\n",
        "clean_sentiment_ds['text'] = clean_sentiment_ds['text'].apply(lambda x: x.lower())"
      ]
    },
    {
      "cell_type": "code",
      "execution_count": 82,
      "metadata": {},
      "outputs": [],
      "source": [
        "import re\n",
        "reg = r'(?<!\\w)@[\\w+]{1,15}\\b'\n",
        "regRT = r'RT'\n",
        "regWITH = r'w/'\n",
        "regPOINTS = r':+'\n",
        "regLINE = r'-+'\n",
        "regQUOTES = r'\"+'\n",
        "regHASHTAG = r'(?<!\\w)#[\\w+]{1,15}\\b'\n",
        "def convertText(text):\n",
        "    text=re.sub(reg, '', text, re.M)\n",
        "    text=re.sub(regRT, '', text, re.M)\n",
        "    text=re.sub(regWITH, '', text, re.M)\n",
        "    text=re.sub(regPOINTS, '', text, re.M)\n",
        "    text=re.sub(regHASHTAG, '', text, re.M)\n",
        "    text=re.sub(regLINE, '', text, re.M)\n",
        "    text=re.sub(regQUOTES, '', text, re.M)\n",
        "    text=re.sub(regLINE, '', text, re.M)\n",
        "    return text\n",
        "clean_sentiment_ds['text'] = clean_sentiment_ds['text'].apply(lambda x: convertText(x))\n"
      ]
    },
    {
      "cell_type": "code",
      "execution_count": 83,
      "metadata": {
        "colab": {
          "base_uri": "https://localhost:8080/",
          "height": 206
        },
        "id": "TdJEBdaPr2ex",
        "outputId": "8b2e6d0b-238f-4638-bac1-4cab4718891e"
      },
      "outputs": [
        {
          "data": {
            "text/html": [
              "<div>\n",
              "<style scoped>\n",
              "    .dataframe tbody tr th:only-of-type {\n",
              "        vertical-align: middle;\n",
              "    }\n",
              "\n",
              "    .dataframe tbody tr th {\n",
              "        vertical-align: top;\n",
              "    }\n",
              "\n",
              "    .dataframe thead th {\n",
              "        text-align: right;\n",
              "    }\n",
              "</style>\n",
              "<table border=\"1\" class=\"dataframe\">\n",
              "  <thead>\n",
              "    <tr style=\"text-align: right;\">\n",
              "      <th></th>\n",
              "      <th>sentiment</th>\n",
              "      <th>text</th>\n",
              "    </tr>\n",
              "  </thead>\n",
              "  <tbody>\n",
              "    <tr>\n",
              "      <th>1</th>\n",
              "      <td>1</td>\n",
              "      <td>rt  didn't catch the full  last night. here ar...</td>\n",
              "    </tr>\n",
              "    <tr>\n",
              "      <th>3</th>\n",
              "      <td>1</td>\n",
              "      <td>rt  that carly fiorina is trending  hours afte...</td>\n",
              "    </tr>\n",
              "    <tr>\n",
              "      <th>4</th>\n",
              "      <td>1</td>\n",
              "      <td>rt     delivered the highest ratings in the hi...</td>\n",
              "    </tr>\n",
              "    <tr>\n",
              "      <th>5</th>\n",
              "      <td>1</td>\n",
              "      <td>rt   on my first day i will rescind every ille...</td>\n",
              "    </tr>\n",
              "    <tr>\n",
              "      <th>6</th>\n",
              "      <td>0</td>\n",
              "      <td>rt  i liked her and was happy when i heard she...</td>\n",
              "    </tr>\n",
              "    <tr>\n",
              "      <th>...</th>\n",
              "      <td>...</td>\n",
              "      <td>...</td>\n",
              "    </tr>\n",
              "    <tr>\n",
              "      <th>13866</th>\n",
              "      <td>0</td>\n",
              "      <td>rt  love to see men who will never be faced wi...</td>\n",
              "    </tr>\n",
              "    <tr>\n",
              "      <th>13867</th>\n",
              "      <td>1</td>\n",
              "      <td>rt  who thought huckabee exceeded their expect...</td>\n",
              "    </tr>\n",
              "    <tr>\n",
              "      <th>13868</th>\n",
              "      <td>1</td>\n",
              "      <td>rt   as president, i will always tell the trut...</td>\n",
              "    </tr>\n",
              "    <tr>\n",
              "      <th>13869</th>\n",
              "      <td>0</td>\n",
              "      <td>rt   donald trump says that he doesn't have ti...</td>\n",
              "    </tr>\n",
              "    <tr>\n",
              "      <th>13870</th>\n",
              "      <td>1</td>\n",
              "      <td>rt   headed into the presidential debates. go ...</td>\n",
              "    </tr>\n",
              "  </tbody>\n",
              "</table>\n",
              "<p>10729 rows × 2 columns</p>\n",
              "</div>"
            ],
            "text/plain": [
              "       sentiment                                               text\n",
              "1              1  rt  didn't catch the full  last night. here ar...\n",
              "3              1  rt  that carly fiorina is trending  hours afte...\n",
              "4              1  rt     delivered the highest ratings in the hi...\n",
              "5              1  rt   on my first day i will rescind every ille...\n",
              "6              0  rt  i liked her and was happy when i heard she...\n",
              "...          ...                                                ...\n",
              "13866          0  rt  love to see men who will never be faced wi...\n",
              "13867          1  rt  who thought huckabee exceeded their expect...\n",
              "13868          1  rt   as president, i will always tell the trut...\n",
              "13869          0  rt   donald trump says that he doesn't have ti...\n",
              "13870          1  rt   headed into the presidential debates. go ...\n",
              "\n",
              "[10729 rows x 2 columns]"
            ]
          },
          "execution_count": 83,
          "metadata": {},
          "output_type": "execute_result"
        }
      ],
      "source": [
        "clean_sentiment_ds"
      ]
    },
    {
      "cell_type": "code",
      "execution_count": 84,
      "metadata": {
        "id": "TRaykkQNr2hy"
      },
      "outputs": [],
      "source": [
        "from sklearn.feature_extraction.text import TfidfVectorizer\n",
        "corpus = clean_sentiment_ds['text']\n",
        "sentiment = clean_sentiment_ds['sentiment']\n",
        "\n",
        "vectorizer = TfidfVectorizer(smooth_idf=False, norm=None, sublinear_tf=True, ngram_range=(1, 1))\n",
        "embeddings = vectorizer.fit_transform(corpus)"
      ]
    },
    {
      "cell_type": "code",
      "execution_count": 85,
      "metadata": {
        "id": "p5hLiLZ6r2ka"
      },
      "outputs": [],
      "source": [
        "from sklearn.model_selection import train_test_split\n",
        "\n",
        "X_train, X_test, y_train, y_test = train_test_split(embeddings, sentiment, test_size=0.2, random_state=42)"
      ]
    },
    {
      "cell_type": "code",
      "execution_count": 86,
      "metadata": {
        "id": "qRJkVyMsr2nT"
      },
      "outputs": [],
      "source": [
        "from sklearn.linear_model import LogisticRegression\n",
        "from sklearn.metrics import r2_score, confusion_matrix, plot_confusion_matrix, classification_report"
      ]
    },
    {
      "cell_type": "code",
      "execution_count": 87,
      "metadata": {
        "id": "Q3JHrZQ1q9-3"
      },
      "outputs": [],
      "source": [
        "model = LogisticRegression(penalty='l2', C=0.3, solver='lbfgs', max_iter=150, verbose=0, random_state=42)"
      ]
    },
    {
      "cell_type": "code",
      "execution_count": 88,
      "metadata": {
        "colab": {
          "base_uri": "https://localhost:8080/"
        },
        "id": "sipw5AASqgsR",
        "outputId": "7615e155-ce4c-4d29-e371-59fdc79c5fda"
      },
      "outputs": [
        {
          "name": "stderr",
          "output_type": "stream",
          "text": [
            "C:\\Users\\tuska\\AppData\\Local\\Programs\\Python\\Python39\\lib\\site-packages\\sklearn\\linear_model\\_logistic.py:814: ConvergenceWarning: lbfgs failed to converge (status=1):\n",
            "STOP: TOTAL NO. of ITERATIONS REACHED LIMIT.\n",
            "\n",
            "Increase the number of iterations (max_iter) or scale the data as shown in:\n",
            "    https://scikit-learn.org/stable/modules/preprocessing.html\n",
            "Please also refer to the documentation for alternative solver options:\n",
            "    https://scikit-learn.org/stable/modules/linear_model.html#logistic-regression\n",
            "  n_iter_i = _check_optimize_result(\n"
          ]
        },
        {
          "data": {
            "text/plain": [
              "LogisticRegression(C=0.3, max_iter=150, random_state=42)"
            ]
          },
          "execution_count": 88,
          "metadata": {},
          "output_type": "execute_result"
        }
      ],
      "source": [
        "model.fit(X_train, y_train)"
      ]
    },
    {
      "cell_type": "code",
      "execution_count": 89,
      "metadata": {
        "colab": {
          "base_uri": "https://localhost:8080/"
        },
        "id": "8v7yvZLotRo8",
        "outputId": "de7cdb7f-41b1-420f-9a66-b43c6b01313a"
      },
      "outputs": [
        {
          "name": "stdout",
          "output_type": "stream",
          "text": [
            "              precision    recall  f1-score   support\n",
            "\n",
            "           0       0.88      0.92      0.90      1713\n",
            "           1       0.62      0.51      0.56       433\n",
            "\n",
            "    accuracy                           0.84      2146\n",
            "   macro avg       0.75      0.71      0.73      2146\n",
            "weighted avg       0.83      0.84      0.83      2146\n",
            "\n"
          ]
        }
      ],
      "source": [
        "print(classification_report(y_test, model.predict(X_test), zero_division='warn'))"
      ]
    },
    {
      "cell_type": "markdown",
      "metadata": {
        "id": "zwVJZ0E8s7M5"
      },
      "source": [
        "1. Улучшить показатели precision, recall по 1.\n",
        "2. Применить другие методы машинного обучения и сравнить результат."
      ]
    }
  ],
  "metadata": {
    "colab": {
      "collapsed_sections": [],
      "name": "NLP_LAB.ipynb",
      "provenance": []
    },
    "kernelspec": {
      "display_name": "Python 3",
      "language": "python",
      "name": "python3"
    },
    "language_info": {
      "codemirror_mode": {
        "name": "ipython",
        "version": 3
      },
      "file_extension": ".py",
      "mimetype": "text/x-python",
      "name": "python",
      "nbconvert_exporter": "python",
      "pygments_lexer": "ipython3",
      "version": "3.9.7"
    }
  },
  "nbformat": 4,
  "nbformat_minor": 0
}
